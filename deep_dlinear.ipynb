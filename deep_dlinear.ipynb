{
 "cells": [
  {
   "cell_type": "code",
   "execution_count": 1,
   "metadata": {},
   "outputs": [
    {
     "name": "stderr",
     "output_type": "stream",
     "text": [
      "/home/codespace/.python/current/lib/python3.10/site-packages/pytorch_forecasting/models/base_model.py:30: TqdmWarning: IProgress not found. Please update jupyter and ipywidgets. See https://ipywidgets.readthedocs.io/en/stable/user_install.html\n",
      "  from tqdm.autonotebook import tqdm\n"
     ]
    }
   ],
   "source": [
    "from utils.data_utils import split_dataset, TimeSeriesDataset\n",
    "from utils.evaluation_utils import plot_multistep_forecast\n",
    "from utils.training_utils import train\n",
    "import pandas as pd \n",
    "from torch.utils.data import DataLoader\n",
    "import matplotlib.pyplot as plt"
   ]
  },
  {
   "cell_type": "code",
   "execution_count": 2,
   "metadata": {},
   "outputs": [],
   "source": [
    "ETTm2 = pd.read_csv(\"/workspaces/time_series_experiment/ETT-small/ETTm2.csv\")\n",
    "training_df, test_df = split_dataset(ETTm2, remain_same = False)"
   ]
  },
  {
   "cell_type": "code",
   "execution_count": 3,
   "metadata": {},
   "outputs": [],
   "source": [
    "p_lag = 96\n",
    "future_steps = 48\n",
    "batch_size = 8\n",
    "epochs = 8\n",
    "learning_rate=1.e-4\n",
    "decomp_kernel_size = 24\n",
    "number_of_forecasts = 100\n",
    "target_column = ['OT']\n",
    "feature_columns = [i for i in training_df.columns]\n",
    "modelling_task = 'univariate'\n",
    "n_continous_features=7\n",
    "n_categorial_features=5\n",
    "dataset_name = 'ETTm2DeepSkipTraining'\n",
    "depth = 'deep'"
   ]
  },
  {
   "cell_type": "code",
   "execution_count": 4,
   "metadata": {},
   "outputs": [
    {
     "name": "stdout",
     "output_type": "stream",
     "text": [
      "Random seed set as 42\n",
      "Univatiate modelling\n",
      "inflation factor = 1\n",
      "Dlinear activated\n",
      "Points to be estimated\n",
      "With a deep network\n",
      "Current learning rate is : 0.0001\n",
      "---------------------------\n",
      "torch.Size([8, 1152])\n",
      "torch.Size([8, 1152])\n"
     ]
    },
    {
     "ename": "RuntimeError",
     "evalue": "The size of tensor a (48) must match the size of tensor b (1152) at non-singleton dimension 1",
     "output_type": "error",
     "traceback": [
      "\u001b[0;31m---------------------------------------------------------------------------\u001b[0m",
      "\u001b[0;31mRuntimeError\u001b[0m                              Traceback (most recent call last)",
      "\u001b[1;32m/workspaces/time_series_experiment/deep_dlinear.ipynb Zelle 4\u001b[0m line \u001b[0;36m1\n\u001b[0;32m----> <a href='vscode-notebook-cell://codespaces%2Bsuper-duper-fiesta-jpwr6pvpgrx3j59x/workspaces/time_series_experiment/deep_dlinear.ipynb#W3sdnNjb2RlLXJlbW90ZQ%3D%3D?line=0'>1</a>\u001b[0m net \u001b[39m=\u001b[39m train(\n\u001b[1;32m      <a href='vscode-notebook-cell://codespaces%2Bsuper-duper-fiesta-jpwr6pvpgrx3j59x/workspaces/time_series_experiment/deep_dlinear.ipynb#W3sdnNjb2RlLXJlbW90ZQ%3D%3D?line=1'>2</a>\u001b[0m             epochs \u001b[39m=\u001b[39;49m epochs, \n\u001b[1;32m      <a href='vscode-notebook-cell://codespaces%2Bsuper-duper-fiesta-jpwr6pvpgrx3j59x/workspaces/time_series_experiment/deep_dlinear.ipynb#W3sdnNjb2RlLXJlbW90ZQ%3D%3D?line=2'>3</a>\u001b[0m             n_continous_features\u001b[39m=\u001b[39;49mn_continous_features, \n\u001b[1;32m      <a href='vscode-notebook-cell://codespaces%2Bsuper-duper-fiesta-jpwr6pvpgrx3j59x/workspaces/time_series_experiment/deep_dlinear.ipynb#W3sdnNjb2RlLXJlbW90ZQ%3D%3D?line=3'>4</a>\u001b[0m             n_categorial_features\u001b[39m=\u001b[39;49mn_categorial_features,\n\u001b[1;32m      <a href='vscode-notebook-cell://codespaces%2Bsuper-duper-fiesta-jpwr6pvpgrx3j59x/workspaces/time_series_experiment/deep_dlinear.ipynb#W3sdnNjb2RlLXJlbW90ZQ%3D%3D?line=4'>5</a>\u001b[0m             p_lag\u001b[39m=\u001b[39;49m  p_lag, \n\u001b[1;32m      <a href='vscode-notebook-cell://codespaces%2Bsuper-duper-fiesta-jpwr6pvpgrx3j59x/workspaces/time_series_experiment/deep_dlinear.ipynb#W3sdnNjb2RlLXJlbW90ZQ%3D%3D?line=5'>6</a>\u001b[0m             future_steps \u001b[39m=\u001b[39;49m future_steps, \n\u001b[1;32m      <a href='vscode-notebook-cell://codespaces%2Bsuper-duper-fiesta-jpwr6pvpgrx3j59x/workspaces/time_series_experiment/deep_dlinear.ipynb#W3sdnNjb2RlLXJlbW90ZQ%3D%3D?line=6'>7</a>\u001b[0m             training_df \u001b[39m=\u001b[39;49m training_df, \n\u001b[1;32m      <a href='vscode-notebook-cell://codespaces%2Bsuper-duper-fiesta-jpwr6pvpgrx3j59x/workspaces/time_series_experiment/deep_dlinear.ipynb#W3sdnNjb2RlLXJlbW90ZQ%3D%3D?line=7'>8</a>\u001b[0m             validation_df \u001b[39m=\u001b[39;49m test_df, \n\u001b[1;32m      <a href='vscode-notebook-cell://codespaces%2Bsuper-duper-fiesta-jpwr6pvpgrx3j59x/workspaces/time_series_experiment/deep_dlinear.ipynb#W3sdnNjb2RlLXJlbW90ZQ%3D%3D?line=8'>9</a>\u001b[0m             feature_columns \u001b[39m=\u001b[39;49m feature_columns,\n\u001b[1;32m     <a href='vscode-notebook-cell://codespaces%2Bsuper-duper-fiesta-jpwr6pvpgrx3j59x/workspaces/time_series_experiment/deep_dlinear.ipynb#W3sdnNjb2RlLXJlbW90ZQ%3D%3D?line=9'>10</a>\u001b[0m             target_column \u001b[39m=\u001b[39;49m target_column, \n\u001b[1;32m     <a href='vscode-notebook-cell://codespaces%2Bsuper-duper-fiesta-jpwr6pvpgrx3j59x/workspaces/time_series_experiment/deep_dlinear.ipynb#W3sdnNjb2RlLXJlbW90ZQ%3D%3D?line=10'>11</a>\u001b[0m             learning_rate\u001b[39m=\u001b[39;49mlearning_rate ,\n\u001b[1;32m     <a href='vscode-notebook-cell://codespaces%2Bsuper-duper-fiesta-jpwr6pvpgrx3j59x/workspaces/time_series_experiment/deep_dlinear.ipynb#W3sdnNjb2RlLXJlbW90ZQ%3D%3D?line=11'>12</a>\u001b[0m             decomp_kernel_size\u001b[39m=\u001b[39;49m decomp_kernel_size, \n\u001b[1;32m     <a href='vscode-notebook-cell://codespaces%2Bsuper-duper-fiesta-jpwr6pvpgrx3j59x/workspaces/time_series_experiment/deep_dlinear.ipynb#W3sdnNjb2RlLXJlbW90ZQ%3D%3D?line=12'>13</a>\u001b[0m             batch_size\u001b[39m=\u001b[39;49mbatch_size, \n\u001b[1;32m     <a href='vscode-notebook-cell://codespaces%2Bsuper-duper-fiesta-jpwr6pvpgrx3j59x/workspaces/time_series_experiment/deep_dlinear.ipynb#W3sdnNjb2RlLXJlbW90ZQ%3D%3D?line=13'>14</a>\u001b[0m             model \u001b[39m=\u001b[39;49m \u001b[39m'\u001b[39;49m\u001b[39mdlinear\u001b[39;49m\u001b[39m'\u001b[39;49m, \n\u001b[1;32m     <a href='vscode-notebook-cell://codespaces%2Bsuper-duper-fiesta-jpwr6pvpgrx3j59x/workspaces/time_series_experiment/deep_dlinear.ipynb#W3sdnNjb2RlLXJlbW90ZQ%3D%3D?line=14'>15</a>\u001b[0m             modelling_task \u001b[39m=\u001b[39;49m modelling_task, \n\u001b[1;32m     <a href='vscode-notebook-cell://codespaces%2Bsuper-duper-fiesta-jpwr6pvpgrx3j59x/workspaces/time_series_experiment/deep_dlinear.ipynb#W3sdnNjb2RlLXJlbW90ZQ%3D%3D?line=15'>16</a>\u001b[0m             dataset_name \u001b[39m=\u001b[39;49m dataset_name, \n\u001b[1;32m     <a href='vscode-notebook-cell://codespaces%2Bsuper-duper-fiesta-jpwr6pvpgrx3j59x/workspaces/time_series_experiment/deep_dlinear.ipynb#W3sdnNjb2RlLXJlbW90ZQ%3D%3D?line=16'>17</a>\u001b[0m             depth \u001b[39m=\u001b[39;49m depth\n\u001b[1;32m     <a href='vscode-notebook-cell://codespaces%2Bsuper-duper-fiesta-jpwr6pvpgrx3j59x/workspaces/time_series_experiment/deep_dlinear.ipynb#W3sdnNjb2RlLXJlbW90ZQ%3D%3D?line=17'>18</a>\u001b[0m             )\n\u001b[1;32m     <a href='vscode-notebook-cell://codespaces%2Bsuper-duper-fiesta-jpwr6pvpgrx3j59x/workspaces/time_series_experiment/deep_dlinear.ipynb#W3sdnNjb2RlLXJlbW90ZQ%3D%3D?line=18'>19</a>\u001b[0m test_data \u001b[39m=\u001b[39m DataLoader(TimeSeriesDataset(test_df, future_steps\u001b[39m=\u001b[39m future_steps, target_column \u001b[39m=\u001b[39m target_column,feature_columns\u001b[39m=\u001b[39mfeature_columns,p_lag\u001b[39m=\u001b[39mp_lag), batch_size\u001b[39m=\u001b[39mbatch_size,drop_last\u001b[39m=\u001b[39m\u001b[39mTrue\u001b[39;00m)\n\u001b[1;32m     <a href='vscode-notebook-cell://codespaces%2Bsuper-duper-fiesta-jpwr6pvpgrx3j59x/workspaces/time_series_experiment/deep_dlinear.ipynb#W3sdnNjb2RlLXJlbW90ZQ%3D%3D?line=19'>20</a>\u001b[0m plot_multistep_forecast(test_data\u001b[39m=\u001b[39mtest_data, dataset_name \u001b[39m=\u001b[39m dataset_name, neural_net\u001b[39m=\u001b[39mnet, future_steps\u001b[39m=\u001b[39mfuture_steps, number_of_forecasts\u001b[39m=\u001b[39mnumber_of_forecasts)\n",
      "File \u001b[0;32m/workspaces/time_series_experiment/utils/training_utils.py:91\u001b[0m, in \u001b[0;36mtrain\u001b[0;34m(epochs, p_lag, future_steps, n_continous_features, n_categorial_features, training_df, validation_df, feature_columns, dataset_name, target_column, learning_rate, decomp_kernel_size, batch_size, model, modelling_task, density, depth)\u001b[0m\n\u001b[1;32m     88\u001b[0m labels \u001b[39m=\u001b[39m labels\u001b[39m.\u001b[39msqueeze(\u001b[39m0\u001b[39m)\u001b[39m.\u001b[39mfloat()\n\u001b[1;32m     90\u001b[0m optimizer\u001b[39m.\u001b[39mzero_grad()\n\u001b[0;32m---> 91\u001b[0m outputs \u001b[39m=\u001b[39m net(inputs)\n\u001b[1;32m     92\u001b[0m \u001b[39mif\u001b[39;00m density:\n\u001b[1;32m     93\u001b[0m     loss \u001b[39m=\u001b[39m normal_loss(outputs, labels\u001b[39m.\u001b[39msqueeze(\u001b[39m1\u001b[39m))\n",
      "File \u001b[0;32m~/.python/current/lib/python3.10/site-packages/torch/nn/modules/module.py:1532\u001b[0m, in \u001b[0;36mModule._wrapped_call_impl\u001b[0;34m(self, *args, **kwargs)\u001b[0m\n\u001b[1;32m   1530\u001b[0m     \u001b[39mreturn\u001b[39;00m \u001b[39mself\u001b[39m\u001b[39m.\u001b[39m_compiled_call_impl(\u001b[39m*\u001b[39margs, \u001b[39m*\u001b[39m\u001b[39m*\u001b[39mkwargs)  \u001b[39m# type: ignore[misc]\u001b[39;00m\n\u001b[1;32m   1531\u001b[0m \u001b[39melse\u001b[39;00m:\n\u001b[0;32m-> 1532\u001b[0m     \u001b[39mreturn\u001b[39;00m \u001b[39mself\u001b[39;49m\u001b[39m.\u001b[39;49m_call_impl(\u001b[39m*\u001b[39;49margs, \u001b[39m*\u001b[39;49m\u001b[39m*\u001b[39;49mkwargs)\n",
      "File \u001b[0;32m~/.python/current/lib/python3.10/site-packages/torch/nn/modules/module.py:1541\u001b[0m, in \u001b[0;36mModule._call_impl\u001b[0;34m(self, *args, **kwargs)\u001b[0m\n\u001b[1;32m   1536\u001b[0m \u001b[39m# If we don't have any hooks, we want to skip the rest of the logic in\u001b[39;00m\n\u001b[1;32m   1537\u001b[0m \u001b[39m# this function, and just call forward.\u001b[39;00m\n\u001b[1;32m   1538\u001b[0m \u001b[39mif\u001b[39;00m \u001b[39mnot\u001b[39;00m (\u001b[39mself\u001b[39m\u001b[39m.\u001b[39m_backward_hooks \u001b[39mor\u001b[39;00m \u001b[39mself\u001b[39m\u001b[39m.\u001b[39m_backward_pre_hooks \u001b[39mor\u001b[39;00m \u001b[39mself\u001b[39m\u001b[39m.\u001b[39m_forward_hooks \u001b[39mor\u001b[39;00m \u001b[39mself\u001b[39m\u001b[39m.\u001b[39m_forward_pre_hooks\n\u001b[1;32m   1539\u001b[0m         \u001b[39mor\u001b[39;00m _global_backward_pre_hooks \u001b[39mor\u001b[39;00m _global_backward_hooks\n\u001b[1;32m   1540\u001b[0m         \u001b[39mor\u001b[39;00m _global_forward_hooks \u001b[39mor\u001b[39;00m _global_forward_pre_hooks):\n\u001b[0;32m-> 1541\u001b[0m     \u001b[39mreturn\u001b[39;00m forward_call(\u001b[39m*\u001b[39;49margs, \u001b[39m*\u001b[39;49m\u001b[39m*\u001b[39;49mkwargs)\n\u001b[1;32m   1543\u001b[0m \u001b[39mtry\u001b[39;00m:\n\u001b[1;32m   1544\u001b[0m     result \u001b[39m=\u001b[39m \u001b[39mNone\u001b[39;00m\n",
      "File \u001b[0;32m/workspaces/time_series_experiment/utils/model_utils.py:354\u001b[0m, in \u001b[0;36mARNet.forward\u001b[0;34m(self, input)\u001b[0m\n\u001b[1;32m    352\u001b[0m y_hat_season \u001b[39m=\u001b[39m \u001b[39mself\u001b[39m\u001b[39m.\u001b[39mrelu(\u001b[39mself\u001b[39m\u001b[39m.\u001b[39minput_seasonal_2layer(y_hat_season))\u001b[39m.\u001b[39madd(input_season_reshaped)\n\u001b[1;32m    353\u001b[0m y_hat_season \u001b[39m=\u001b[39m \u001b[39mself\u001b[39m\u001b[39m.\u001b[39mrelu(\u001b[39mself\u001b[39m\u001b[39m.\u001b[39minput_seasonal_3layer(y_hat_season)) \u001b[39m+\u001b[39m input_season_reshaped\n\u001b[0;32m--> 354\u001b[0m y_hat_season \u001b[39m=\u001b[39m \u001b[39mself\u001b[39;49m\u001b[39m.\u001b[39;49mrelu(\u001b[39mself\u001b[39;49m\u001b[39m.\u001b[39;49minput_seasonal_4layer(y_hat_season)) \u001b[39m+\u001b[39;49m input_season_reshaped\n\u001b[1;32m    356\u001b[0m y_hat_trend \u001b[39m=\u001b[39m \u001b[39mself\u001b[39m\u001b[39m.\u001b[39minput_trend_1layer(\n\u001b[1;32m    357\u001b[0m     input_trend_reshaped\n\u001b[1;32m    358\u001b[0m )\n\u001b[1;32m    359\u001b[0m y_hat_trend \u001b[39m=\u001b[39m \u001b[39mself\u001b[39m\u001b[39m.\u001b[39mrelu(\u001b[39mself\u001b[39m\u001b[39m.\u001b[39minput_trend_2layer(y_hat_trend)) \u001b[39m+\u001b[39m input_trend_reshaped\n",
      "\u001b[0;31mRuntimeError\u001b[0m: The size of tensor a (48) must match the size of tensor b (1152) at non-singleton dimension 1"
     ]
    }
   ],
   "source": [
    "net = train(\n",
    "            epochs = epochs, \n",
    "            n_continous_features=n_continous_features, \n",
    "            n_categorial_features=n_categorial_features,\n",
    "            p_lag=  p_lag, \n",
    "            future_steps = future_steps, \n",
    "            training_df = training_df, \n",
    "            validation_df = test_df, \n",
    "            feature_columns = feature_columns,\n",
    "            target_column = target_column, \n",
    "            learning_rate=learning_rate ,\n",
    "            decomp_kernel_size= decomp_kernel_size, \n",
    "            batch_size=batch_size, \n",
    "            model = 'dlinear', \n",
    "            modelling_task = modelling_task, \n",
    "            dataset_name = dataset_name, \n",
    "            depth = depth\n",
    "            )\n",
    "test_data = DataLoader(TimeSeriesDataset(test_df, future_steps= future_steps, target_column = target_column,feature_columns=feature_columns,p_lag=p_lag), batch_size=batch_size,drop_last=True)\n",
    "plot_multistep_forecast(test_data=test_data, dataset_name = dataset_name, neural_net=net, future_steps=future_steps, number_of_forecasts=number_of_forecasts)"
   ]
  },
  {
   "cell_type": "code",
   "execution_count": null,
   "metadata": {},
   "outputs": [],
   "source": [
    "d = ''"
   ]
  },
  {
   "cell_type": "code",
   "execution_count": null,
   "metadata": {},
   "outputs": [],
   "source": [
    "q = ''"
   ]
  },
  {
   "cell_type": "code",
   "execution_count": null,
   "metadata": {},
   "outputs": [],
   "source": [
    "g = ''"
   ]
  },
  {
   "cell_type": "code",
   "execution_count": null,
   "metadata": {},
   "outputs": [],
   "source": [
    "o = ''"
   ]
  },
  {
   "cell_type": "code",
   "execution_count": null,
   "metadata": {},
   "outputs": [],
   "source": [
    "p = ''"
   ]
  },
  {
   "cell_type": "code",
   "execution_count": null,
   "metadata": {},
   "outputs": [],
   "source": [
    "i = ''"
   ]
  },
  {
   "cell_type": "code",
   "execution_count": null,
   "metadata": {},
   "outputs": [],
   "source": [
    "ue = ''"
   ]
  },
  {
   "cell_type": "code",
   "execution_count": null,
   "metadata": {},
   "outputs": [],
   "source": [
    "peter = ''"
   ]
  },
  {
   "cell_type": "code",
   "execution_count": null,
   "metadata": {},
   "outputs": [],
   "source": [
    "gustav = ''"
   ]
  }
 ],
 "metadata": {
  "kernelspec": {
   "display_name": "Python 3",
   "language": "python",
   "name": "python3"
  },
  "language_info": {
   "codemirror_mode": {
    "name": "ipython",
    "version": 3
   },
   "file_extension": ".py",
   "mimetype": "text/x-python",
   "name": "python",
   "nbconvert_exporter": "python",
   "pygments_lexer": "ipython3",
   "version": "3.10.13"
  }
 },
 "nbformat": 4,
 "nbformat_minor": 2
}
