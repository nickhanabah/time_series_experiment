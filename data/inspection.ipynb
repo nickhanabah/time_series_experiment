{
 "cells": [
  {
   "cell_type": "code",
   "execution_count": 265,
   "metadata": {},
   "outputs": [],
   "source": [
    "import pandas as pd\n",
    "import torch\n",
    "from torch.utils.data import Dataset\n",
    "\n",
    "class TimeSeriesDataset(Dataset):\n",
    "    def __init__(self,path, p_lag=0, d_lag=0, test=False):\n",
    "        self.df = pd.read_csv(path)\n",
    "        if test: \n",
    "            self.df = self.df.iloc[round(len(self.df)*0.8):len(self.df),:]\n",
    "        else: \n",
    "            self.df = self.df.iloc[0:round(len(self.df)*0.8),:]\n",
    "        self.p_lag = p_lag\n",
    "        self.d_lag = d_lag\n",
    "        self.len_df_minus_lag = len(self.df) - p_lag - d_lag\n",
    "        \n",
    "    def __len__(self):\n",
    "        return self.len_df_minus_lag\n",
    "\n",
    "    def __getitem__(self, idx):\n",
    "        input_p_lag = torch.tensor(self.df.iloc[(idx+self.d_lag):(idx+self.d_lag + self.p_lag),1].astype(float).values, requires_grad=True)\n",
    "        if self.d_lag >0: \n",
    "            input_d_lag = torch.tensor(self.df.iloc[idx:(idx + self.p_lag),1].astype(float).values)\n",
    "            input = input_p_lag - input_d_lag\n",
    "        else: \n",
    "            input = input_p_lag\n",
    "        target = torch.tensor(self.df.iloc[(idx + self.p_lag + 1),1].astype(float))\n",
    "        return input, target"
   ]
  },
  {
   "cell_type": "code",
   "execution_count": 275,
   "metadata": {},
   "outputs": [],
   "source": [
    "import math\n",
    "import torch.nn as nn\n",
    "\n",
    "class ARNet(nn.Module):\n",
    "    def __init__(self, p_lag):\n",
    "        super(ARNet, self).__init__()\n",
    "        self.input_layer = nn.Linear(p_lag, math.ceil(p_lag/2))\n",
    "        self.output_layer = nn.Linear(math.ceil(p_lag/2), 1)\n",
    "        self.criterion = nn.MSELoss()\n",
    "\n",
    "    def forward(self, input):\n",
    "        input = input.float()\n",
    "        y_hat = self.input_layer(input)\n",
    "        return torch.exp(self.output_layer(y_hat))"
   ]
  },
  {
   "cell_type": "code",
   "execution_count": 278,
   "metadata": {},
   "outputs": [
    {
     "name": "stdout",
     "output_type": "stream",
     "text": [
      "Epoch 0: \n",
      "Running (training) loss is 86.88192511577995.\n",
      "Test loss is 101.27010387073864.\n",
      "---------------------------\n",
      "Epoch 25: \n",
      "Running (training) loss is 46.2726291231415.\n",
      "Test loss is 51.63075697277789.\n",
      "---------------------------\n"
     ]
    }
   ],
   "source": [
    "p_lag = 24\n",
    "\n",
    "net = ARNet(p_lag)\n",
    "\n",
    "train_data = TimeSeriesDataset(path='Electric_Production.csv',p_lag=p_lag,d_lag=0,test=False)\n",
    "train_loss_list = []\n",
    "test_data = TimeSeriesDataset(path='Electric_Production.csv',p_lag=p_lag,d_lag=0,test=True)\n",
    "test_loss_list = []\n",
    "\n",
    "torch.set_grad_enabled(True)\n",
    "optimizer = torch.optim.SGD(net.parameters(), lr=0.000001, momentum=0.9)\n",
    "running_train_loss = 0.\n",
    "running_test_loss = 0.\n",
    "train_counter = 1\n",
    "test_counter = 1\n",
    "for epoch in range(1000): \n",
    "    for i, data in enumerate(train_data):\n",
    "        inputs, labels = data\n",
    "        optimizer.zero_grad()\n",
    "        outputs = net(torch.log(inputs))\n",
    "        loss = torch.sqrt(net.criterion(outputs, labels.unsqueeze(0).float()))\n",
    "        loss.backward()\n",
    "        optimizer.step()\n",
    "        running_train_loss += loss.item()\n",
    "        train_counter += 1\n",
    "        train_loss_list.append(running_train_loss/train_counter)\n",
    "\n",
    "    for i, data in enumerate(test_data):\n",
    "        inputs, test_labels = data\n",
    "        output = net(torch.log(inputs))\n",
    "        test_loss = torch.sqrt(net.criterion(output, test_labels.unsqueeze(0).float()))\n",
    "        running_test_loss += test_loss.item()\n",
    "        test_counter += 1\n",
    "        test_loss_list.append(running_test_loss/test_counter)\n",
    "\n",
    "    if epoch % 25 == 0: \n",
    "        print(f\"Epoch {epoch}: \")\n",
    "        print(f\"Running (training) loss is {running_train_loss/train_counter}.\")\n",
    "        print(f\"Test loss is {running_test_loss/test_counter}.\")\n",
    "        print(\"---------------------------\")\n",
    "\n",
    "for i, data in enumerate(test_data):\n",
    "    inputs, labels = data\n",
    "    output = net(torch.log(inputs))\n",
    "    print(f\"predicted output is {output.item()} and true value is {labels.item()}\")\n"
   ]
  }
 ],
 "metadata": {
  "language_info": {
   "name": "python"
  }
 },
 "nbformat": 4,
 "nbformat_minor": 2
}
