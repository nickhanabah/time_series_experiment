{
 "cells": [
  {
   "cell_type": "code",
   "execution_count": 1,
   "metadata": {},
   "outputs": [
    {
     "name": "stderr",
     "output_type": "stream",
     "text": [
      "/home/codespace/.python/current/lib/python3.10/site-packages/pytorch_forecasting/models/base_model.py:30: TqdmWarning: IProgress not found. Please update jupyter and ipywidgets. See https://ipywidgets.readthedocs.io/en/stable/user_install.html\n",
      "  from tqdm.autonotebook import tqdm\n"
     ]
    }
   ],
   "source": [
    "from utils.data_utils import split_dataset, TimeSeriesDataset\n",
    "from utils.evaluation_utils import plot_multistep_forecast, evaluate_on_test_data\n",
    "from utils.training_utils import train\n",
    "import pandas as pd \n",
    "from torch.utils.data import DataLoader\n",
    "import matplotlib.pyplot as plt\n",
    "from statsmodels.graphics.tsaplots import plot_acf, plot_pacf\n",
    "import numpy as np"
   ]
  },
  {
   "cell_type": "code",
   "execution_count": 48,
   "metadata": {},
   "outputs": [],
   "source": [
    "ETTm2 = pd.read_csv(\"/workspaces/time_series_experiment/ETT-small/ETTm2.csv\")\n",
    "training_df, val_df, test_df = split_dataset(ETTm2, remain_same = False)\n",
    "\n",
    "ETTm2.OT.plot()"
   ]
  },
  {
   "cell_type": "code",
   "execution_count": 49,
   "metadata": {},
   "outputs": [],
   "source": [
    "undiff_train_OT = training_df.OT \n",
    "undiff_val_OT = val_df.OT \n",
    "undiff_test_OT = test_df.OT\n",
    "\n",
    "training_df['OT']= training_df.OT.diff(1)\n",
    "val_df['OT'] = val_df.OT.diff(1)\n",
    "test_df['OT'] = test_df.OT.diff(1)"
   ]
  },
  {
   "cell_type": "code",
   "execution_count": 62,
   "metadata": {},
   "outputs": [
    {
     "data": {
      "text/plain": [
       "<Axes: >"
      ]
     },
     "execution_count": 62,
     "metadata": {},
     "output_type": "execute_result"
    },
    {
     "data": {
      "image/png": "[encoded data removed]",
      "text/plain": [
       "<Figure size 640x480 with 1 Axes>"
      ]
     },
     "metadata": {},
     "output_type": "display_data"
    }
   ],
   "source": [
    "training_df.OT.hist(bins = 1000)"
   ]
  },
  {
   "cell_type": "code",
   "execution_count": 103,
   "metadata": {},
   "outputs": [],
   "source": [
    "p_lag = 96\n",
    "future_steps = round(48)\n",
    "batch_size = 8\n",
    "epochs = 1\n",
    "learning_rate=1.e-4\n",
    "decomp_kernel_size = 24\n",
    "number_of_forecasts = 100\n",
    "target_column = ['OT']\n",
    "feature_columns = [i for i in training_df.columns]"
   ]
  },
  {
   "cell_type": "code",
   "execution_count": 104,
   "metadata": {},
   "outputs": [
    {
     "name": "stdout",
     "output_type": "stream",
     "text": [
      "Random seed set as 42\n",
      "RMLP activated\n",
      "Current learning rate is : 0.0001\n",
      "---------------------------\n",
      "Current (running) training loss at iteration 5000 : 2.7902268012046814\n",
      "Current (running) training loss at iteration 10000 : 1.8682918664574624\n",
      "Current (running) training loss at iteration 15000 : 1.4217838177760442\n",
      "Current (running) training loss at iteration 20000 : 1.140250539547205\n",
      "Current (running) training loss at iteration 25000 : 0.9750608338165283\n",
      "Current (running) training loss at iteration 30000 : 0.869067165718476\n",
      "\n",
      "Epoch 0: \n",
      "\n",
      "Train metrics: -------\n",
      "Running (training) loss is 0.8120792976379175.\n",
      "Training MAE is 0.21816490914495787.\n",
      "Training MSE is 0.812936789364928.\n",
      "Training MAPE is 91867225395.0122.\n",
      "\n",
      "Val metrics: -------\n",
      "Running (validation) loss is 0.21809982435295822.\n",
      "Validation MAE is 0.12902113182154434.\n",
      "Validation MSE is 0.2185706823716527.\n",
      "Validation MAPE is 54864280284.68359.\n",
      "---------------------------\n"
     ]
    }
   ],
   "source": [
    "net, res = train(\n",
    "            epochs = epochs, \n",
    "            n_continous_features=7, \n",
    "            n_categorial_features=5,\n",
    "            p_lag=  p_lag, \n",
    "            future_steps = future_steps, \n",
    "            training_df = training_df.iloc[1:,:], \n",
    "            validation_df = val_df.iloc[1:,:], \n",
    "            feature_columns = feature_columns,\n",
    "            target_column = target_column, \n",
    "            learning_rate=learning_rate ,\n",
    "            decomp_kernel_size= decomp_kernel_size, \n",
    "            batch_size=batch_size, \n",
    "            get_residuals = True, \n",
    "            model = 'rmlp'\n",
    "            )"
   ]
  },
  {
   "cell_type": "code",
   "execution_count": 105,
   "metadata": {},
   "outputs": [],
   "source": [
    "test_data = DataLoader(TimeSeriesDataset(test_df.iloc[1:,:],future_steps= future_steps, target_column = target_column,feature_columns=feature_columns,p_lag=p_lag), batch_size=batch_size,drop_last=True)"
   ]
  },
  {
   "cell_type": "code",
   "execution_count": 118,
   "metadata": {},
   "outputs": [],
   "source": [
    "for i, (input, targets) in enumerate(test_data): \n",
    "    if i == 50: \n",
    "        break\n",
    "    else: \n",
    "        predictions = net(input)"
   ]
  },
  {
   "cell_type": "code",
   "execution_count": 119,
   "metadata": {},
   "outputs": [],
   "source": [
    "idx = i - 1\n",
    "skip = idx*batch_size\n",
    "batch_idx = 8\n",
    "pred = predictions[(batch_idx-1),:].tolist()\n",
    "targets = undiff_test_OT.tolist()[(skip + batch_idx-1):(future_steps+skip +batch_idx+1)]\n",
    "undiff_pred_l = []\n",
    "undiff_truth_l = []\n",
    "for i in range(future_steps):\n",
    "    if i == 0:  \n",
    "        x_hat_i = pred[i]\n",
    "        x_i_minus_1 = targets[i]\n",
    "        undiff_pred = x_hat_i + x_i_minus_1\n",
    "    else: \n",
    "        x_hat_i = pred[i]\n",
    "        x_i_minus_1 = undiff_pred\n",
    "        undiff_pred = x_hat_i + x_i_minus_1\n",
    "        \n",
    "    undiff_truth = targets[i+1]\n",
    "    undiff_pred_l.append(undiff_pred)\n",
    "    undiff_truth_l.append(undiff_truth)"
   ]
  },
  {
   "cell_type": "code",
   "execution_count": 120,
   "metadata": {},
   "outputs": [
    {
     "data": {
      "text/plain": [
       "951.1835033114917"
      ]
     },
     "execution_count": 120,
     "metadata": {},
     "output_type": "execute_result"
    }
   ],
   "source": [
    "from sklearn.metrics import mean_squared_error \n",
    "mean_squared_error(undiff_truth_l,undiff_pred_l) "
   ]
  },
  {
   "cell_type": "code",
   "execution_count": 41,
   "metadata": {},
   "outputs": [],
   "source": [
    "import matplotlib.pyplot as plt "
   ]
  },
  {
   "cell_type": "code",
   "execution_count": 121,
   "metadata": {},
   "outputs": [
    {
     "data": {
      "text/plain": [
       "[<matplotlib.lines.Line2D at 0x7d8638113010>,\n",
       " <matplotlib.lines.Line2D at 0x7d8638113040>]"
      ]
     },
     "execution_count": 121,
     "metadata": {},
     "output_type": "execute_result"
    },
    {
     "data": {
      "image/png": "[encoded data removed]",
      "text/plain": [
       "<Figure size 640x480 with 1 Axes>"
      ]
     },
     "metadata": {},
     "output_type": "display_data"
    }
   ],
   "source": [
    "plt.plot(undiff_pred_l,'g', undiff_truth_l, 'r')"
   ]
  }
 ],
 "metadata": {
  "kernelspec": {
   "display_name": "Python 3",
   "language": "python",
   "name": "python3"
  },
  "language_info": {
   "codemirror_mode": {
    "name": "ipython",
    "version": 3
   },
   "file_extension": ".py",
   "mimetype": "text/x-python",
   "name": "python",
   "nbconvert_exporter": "python",
   "pygments_lexer": "ipython3",
   "version": "3.10.13"
  }
 },
 "nbformat": 4,
 "nbformat_minor": 2
}
